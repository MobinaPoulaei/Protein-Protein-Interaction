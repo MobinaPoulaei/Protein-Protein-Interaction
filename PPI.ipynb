{
  "cells": [
    {
      "cell_type": "markdown",
      "source": [
        "# Install `torch-geometric`"
      ],
      "metadata": {
        "id": "Vycof9mfnxkt"
      }
    },
    {
      "cell_type": "code",
      "source": [
        "!pip install torch-geometric"
      ],
      "metadata": {
        "colab": {
          "base_uri": "https://localhost:8080/"
        },
        "id": "Wi2ZeQ_QucOr",
        "outputId": "32b0d646-ea57-48c3-aef2-d17a57d73caa"
      },
      "execution_count": 2,
      "outputs": [
        {
          "output_type": "stream",
          "name": "stdout",
          "text": [
            "Collecting torch-geometric\n",
            "  Downloading torch_geometric-2.5.3-py3-none-any.whl.metadata (64 kB)\n",
            "\u001b[?25l     \u001b[90m━━━━━━━━━━━━━━━━━━━━━━━━━━━━━━━━━━━━━━━━\u001b[0m \u001b[32m0.0/64.2 kB\u001b[0m \u001b[31m?\u001b[0m eta \u001b[36m-:--:--\u001b[0m\r\u001b[2K     \u001b[90m━━━━━━━━━━━━━━━━━━━━━━━━━━━━━━━━━━━━━━━━\u001b[0m \u001b[32m64.2/64.2 kB\u001b[0m \u001b[31m3.6 MB/s\u001b[0m eta \u001b[36m0:00:00\u001b[0m\n",
            "\u001b[?25hRequirement already satisfied: tqdm in /usr/local/lib/python3.10/dist-packages (from torch-geometric) (4.66.5)\n",
            "Requirement already satisfied: numpy in /usr/local/lib/python3.10/dist-packages (from torch-geometric) (1.26.4)\n",
            "Requirement already satisfied: scipy in /usr/local/lib/python3.10/dist-packages (from torch-geometric) (1.13.1)\n",
            "Requirement already satisfied: fsspec in /usr/local/lib/python3.10/dist-packages (from torch-geometric) (2024.6.1)\n",
            "Requirement already satisfied: jinja2 in /usr/local/lib/python3.10/dist-packages (from torch-geometric) (3.1.4)\n",
            "Requirement already satisfied: aiohttp in /usr/local/lib/python3.10/dist-packages (from torch-geometric) (3.10.3)\n",
            "Requirement already satisfied: requests in /usr/local/lib/python3.10/dist-packages (from torch-geometric) (2.32.3)\n",
            "Requirement already satisfied: pyparsing in /usr/local/lib/python3.10/dist-packages (from torch-geometric) (3.1.2)\n",
            "Requirement already satisfied: scikit-learn in /usr/local/lib/python3.10/dist-packages (from torch-geometric) (1.3.2)\n",
            "Requirement already satisfied: psutil>=5.8.0 in /usr/local/lib/python3.10/dist-packages (from torch-geometric) (5.9.5)\n",
            "Requirement already satisfied: aiohappyeyeballs>=2.3.0 in /usr/local/lib/python3.10/dist-packages (from aiohttp->torch-geometric) (2.3.5)\n",
            "Requirement already satisfied: aiosignal>=1.1.2 in /usr/local/lib/python3.10/dist-packages (from aiohttp->torch-geometric) (1.3.1)\n",
            "Requirement already satisfied: attrs>=17.3.0 in /usr/local/lib/python3.10/dist-packages (from aiohttp->torch-geometric) (24.2.0)\n",
            "Requirement already satisfied: frozenlist>=1.1.1 in /usr/local/lib/python3.10/dist-packages (from aiohttp->torch-geometric) (1.4.1)\n",
            "Requirement already satisfied: multidict<7.0,>=4.5 in /usr/local/lib/python3.10/dist-packages (from aiohttp->torch-geometric) (6.0.5)\n",
            "Requirement already satisfied: yarl<2.0,>=1.0 in /usr/local/lib/python3.10/dist-packages (from aiohttp->torch-geometric) (1.9.4)\n",
            "Requirement already satisfied: async-timeout<5.0,>=4.0 in /usr/local/lib/python3.10/dist-packages (from aiohttp->torch-geometric) (4.0.3)\n",
            "Requirement already satisfied: MarkupSafe>=2.0 in /usr/local/lib/python3.10/dist-packages (from jinja2->torch-geometric) (2.1.5)\n",
            "Requirement already satisfied: charset-normalizer<4,>=2 in /usr/local/lib/python3.10/dist-packages (from requests->torch-geometric) (3.3.2)\n",
            "Requirement already satisfied: idna<4,>=2.5 in /usr/local/lib/python3.10/dist-packages (from requests->torch-geometric) (3.7)\n",
            "Requirement already satisfied: urllib3<3,>=1.21.1 in /usr/local/lib/python3.10/dist-packages (from requests->torch-geometric) (2.0.7)\n",
            "Requirement already satisfied: certifi>=2017.4.17 in /usr/local/lib/python3.10/dist-packages (from requests->torch-geometric) (2024.7.4)\n",
            "Requirement already satisfied: joblib>=1.1.1 in /usr/local/lib/python3.10/dist-packages (from scikit-learn->torch-geometric) (1.4.2)\n",
            "Requirement already satisfied: threadpoolctl>=2.0.0 in /usr/local/lib/python3.10/dist-packages (from scikit-learn->torch-geometric) (3.5.0)\n",
            "Downloading torch_geometric-2.5.3-py3-none-any.whl (1.1 MB)\n",
            "\u001b[2K   \u001b[90m━━━━━━━━━━━━━━━━━━━━━━━━━━━━━━━━━━━━━━━━\u001b[0m \u001b[32m1.1/1.1 MB\u001b[0m \u001b[31m4.3 MB/s\u001b[0m eta \u001b[36m0:00:00\u001b[0m\n",
            "\u001b[?25hInstalling collected packages: torch-geometric\n",
            "Successfully installed torch-geometric-2.5.3\n"
          ]
        }
      ]
    },
    {
      "cell_type": "markdown",
      "source": [
        "# Import Libraries"
      ],
      "metadata": {
        "id": "tS7rou6Vn3Ly"
      }
    },
    {
      "cell_type": "code",
      "source": [
        "import os\n",
        "import torch\n",
        "import numpy as np\n",
        "import torch.nn as nn\n",
        "import matplotlib.pyplot as plt\n",
        "from sklearn.metrics import f1_score\n",
        "from torch_geometric.nn import GCNConv\n",
        "from torch_geometric.datasets import PPI\n",
        "from torch_geometric.loader import DataLoader\n",
        "from sklearn.utils.class_weight import compute_class_weight"
      ],
      "metadata": {
        "id": "EBdCNz28rZeN"
      },
      "execution_count": 3,
      "outputs": []
    },
    {
      "cell_type": "markdown",
      "source": [
        "# Load the whole dataset and check the target distribution"
      ],
      "metadata": {
        "id": "ggPOIAhhn7ez"
      }
    },
    {
      "cell_type": "code",
      "source": [
        "data = PPI(root='/tmp/PPI')\n",
        "label_counts = data.y.sum(dim=0).numpy()\n",
        "\n",
        "plt.figure(figsize=(10, 5))\n",
        "plt.bar(range(len(label_counts)), label_counts)\n",
        "plt.xlabel('Label Index')\n",
        "plt.ylabel('Number of Nodes')\n",
        "plt.title('Label Distribution in PPI Dataset')\n",
        "plt.show()"
      ],
      "metadata": {
        "colab": {
          "base_uri": "https://localhost:8080/",
          "height": 560
        },
        "id": "J7EfPY9BvTI-",
        "outputId": "e2dc6f0c-bb9e-48db-fdb3-8d4325f2c2cb"
      },
      "execution_count": 4,
      "outputs": [
        {
          "output_type": "stream",
          "name": "stderr",
          "text": [
            "Downloading https://data.dgl.ai/dataset/ppi.zip\n",
            "Extracting /tmp/PPI/ppi.zip\n",
            "Processing...\n",
            "Done!\n"
          ]
        },
        {
          "output_type": "display_data",
          "data": {
            "text/plain": [
              "<Figure size 1000x500 with 1 Axes>"
            ],
            "image/png": "[encoded data removed]"
          },
          "metadata": {}
        }
      ]
    },
    {
      "cell_type": "markdown",
      "source": [
        "# Split dataset to Train, Validation and Test sets"
      ],
      "metadata": {
        "id": "cc5AQAM8oGGq"
      }
    },
    {
      "cell_type": "code",
      "source": [
        "# Load the PPI dataset\n",
        "train_dataset = PPI(root='/tmp/PPI', split='train')\n",
        "val_dataset = PPI(root='/tmp/PPI', split='val')\n",
        "test_dataset = PPI(root='/tmp/PPI', split='test')\n",
        "\n",
        "# Create data loaders\n",
        "train_loader = DataLoader(train_dataset, batch_size=2, shuffle=True)\n",
        "val_loader = DataLoader(val_dataset, batch_size=2, shuffle=False)\n",
        "test_loader = DataLoader(test_dataset, batch_size=2, shuffle=False)"
      ],
      "metadata": {
        "id": "R4mOiqSn4heX"
      },
      "execution_count": 5,
      "outputs": []
    },
    {
      "cell_type": "markdown",
      "source": [
        "# Model Architecture"
      ],
      "metadata": {
        "id": "GnhFM8DPoQWT"
      }
    },
    {
      "cell_type": "code",
      "source": [
        "class PPIModel(nn.Module):\n",
        "  def __init__(self, input_channels, hidden_channels, output_channels):\n",
        "      super(PPIModel, self).__init__()\n",
        "      self.conv1 = GCNConv(input_channels, hidden_channels)\n",
        "      self.relu1 = nn.ReLU()\n",
        "      self.dropout1 = nn.Dropout(0.5)\n",
        "      self.conv2 = GCNConv(hidden_channels, hidden_channels)\n",
        "      self.relu2 = nn.ReLU()\n",
        "      self.dropout2 = nn.Dropout(0.4)\n",
        "      self.linear = nn.Linear(hidden_channels, output_channels)\n",
        "\n",
        "  def forward(self, data):\n",
        "      x, edge_index = data.x, data.edge_index\n",
        "      x = self.conv1(x, edge_index)\n",
        "      x = self.relu1(x)\n",
        "      x = self.dropout1(x)\n",
        "      x = self.conv2(x, edge_index)\n",
        "      x = self.relu2(x)\n",
        "      x = self.dropout2(x)\n",
        "      x = self.linear(x)\n",
        "      return x"
      ],
      "metadata": {
        "id": "2u4vp_JK4sRW"
      },
      "execution_count": 6,
      "outputs": []
    },
    {
      "cell_type": "markdown",
      "source": [
        "## Create Class weights tensor because of a little imbalance in target"
      ],
      "metadata": {
        "id": "dzcXz8r4oVFb"
      }
    },
    {
      "cell_type": "code",
      "source": [
        "# data.y is the one-hot encoded labels\n",
        "label_counts = data.y.sum(dim=0).numpy()\n",
        "# Total number of samples\n",
        "total_samples = label_counts.sum()\n",
        "# Compute class weights\n",
        "class_weights = total_samples / (label_counts * len(label_counts))\n",
        "# Convert to a tensor\n",
        "class_weights_tensor = torch.tensor(class_weights, dtype=torch.float32)"
      ],
      "metadata": {
        "id": "_ibl8Hau-ks0"
      },
      "execution_count": 7,
      "outputs": []
    },
    {
      "cell_type": "markdown",
      "source": [
        "## Define model, loss function and optimizer"
      ],
      "metadata": {
        "id": "5rxJUyNKof4K"
      }
    },
    {
      "cell_type": "code",
      "source": [
        "device = torch.device('cuda' if torch.cuda.is_available() else 'cpu')\n",
        "model_dir = \"model_checkpoints\"\n",
        "os.makedirs(model_dir, exist_ok=True)\n",
        "\n",
        "ppi_model = PPIModel(input_channels=train_dataset.num_features, hidden_channels=1024, output_channels=train_dataset.num_classes).to(device)\n",
        "optim = torch.optim.Adam(ppi_model.parameters(), lr=0.01)\n",
        "criterion = nn.BCEWithLogitsLoss(pos_weight=class_weights_tensor.to(device)).to(device)"
      ],
      "metadata": {
        "id": "YWW2Z_sMzKtC"
      },
      "execution_count": 8,
      "outputs": []
    },
    {
      "cell_type": "markdown",
      "source": [
        "## Define Train and validation functions"
      ],
      "metadata": {
        "id": "_pYgo6uvokqr"
      }
    },
    {
      "cell_type": "code",
      "source": [
        "def train(model, loader, optim, criterion):\n",
        "    model.train()\n",
        "    total_loss = 0\n",
        "    for data in loader:\n",
        "      data = data.to(device)\n",
        "      optim.zero_grad()\n",
        "      out = model(data)\n",
        "      loss = criterion(out, data.y)\n",
        "      loss.backward()\n",
        "      optim.step()\n",
        "      total_loss += loss.item()\n",
        "    return total_loss/len(loader)\n",
        "\n",
        "def evaluate(model, loader, criterion):\n",
        "    model.eval()\n",
        "    total_loss = 0\n",
        "    with torch.no_grad():\n",
        "      for data in loader:\n",
        "        data = data.to(device)\n",
        "        out = model(data)\n",
        "        loss = criterion(out, data.y)\n",
        "        total_loss += loss.item()\n",
        "    return total_loss/len(loader)"
      ],
      "metadata": {
        "id": "SWdgqd5szjwJ"
      },
      "execution_count": 9,
      "outputs": []
    },
    {
      "cell_type": "markdown",
      "source": [
        "## Train and Validation loop"
      ],
      "metadata": {
        "id": "FUqxmhSCote6"
      }
    },
    {
      "cell_type": "code",
      "source": [
        "train_losses = []\n",
        "val_losses = []\n",
        "\n",
        "best_val_loss = float('inf')\n",
        "\n",
        "for epoch in range(3000):\n",
        "  train_loss = train(ppi_model, train_loader, optim, criterion)\n",
        "  val_loss = evaluate(ppi_model, val_loader, criterion)\n",
        "\n",
        "  if epoch % 30 == 0:\n",
        "    print(f'Epoch {epoch+1}, Train Loss: {train_loss:.4f}, Val Loss: {val_loss:.4f}')\n",
        "\n",
        "  train_losses.append(train_loss)\n",
        "  val_losses.append(val_loss)\n",
        "\n",
        "  if val_loss < best_val_loss:\n",
        "      best_val_loss = val_loss\n",
        "      torch.save(ppi_model.state_dict(), os.path.join(model_dir, 'best_model.pth'))"
      ],
      "metadata": {
        "colab": {
          "base_uri": "https://localhost:8080/"
        },
        "id": "7V1mXgTl4Rvo",
        "outputId": "e70fb05a-25c1-4c7b-bd9d-fdf86d9f2a8b"
      },
      "execution_count": 10,
      "outputs": [
        {
          "output_type": "stream",
          "name": "stdout",
          "text": [
            "Epoch 1, Train Loss: 0.6662, Val Loss: 0.6227\n",
            "Epoch 31, Train Loss: 0.4710, Val Loss: 0.4460\n",
            "Epoch 61, Train Loss: 0.4162, Val Loss: 0.3962\n",
            "Epoch 91, Train Loss: 0.3919, Val Loss: 0.3587\n",
            "Epoch 121, Train Loss: 0.3829, Val Loss: 0.3525\n",
            "Epoch 151, Train Loss: 0.3745, Val Loss: 0.3401\n",
            "Epoch 181, Train Loss: 0.3702, Val Loss: 0.3369\n",
            "Epoch 211, Train Loss: 0.3663, Val Loss: 0.3261\n",
            "Epoch 241, Train Loss: 0.3569, Val Loss: 0.3240\n",
            "Epoch 271, Train Loss: 0.3568, Val Loss: 0.3205\n",
            "Epoch 301, Train Loss: 0.3540, Val Loss: 0.3148\n",
            "Epoch 331, Train Loss: 0.3522, Val Loss: 0.3156\n",
            "Epoch 361, Train Loss: 0.3483, Val Loss: 0.3085\n",
            "Epoch 391, Train Loss: 0.3462, Val Loss: 0.3081\n",
            "Epoch 421, Train Loss: 0.3489, Val Loss: 0.3107\n",
            "Epoch 451, Train Loss: 0.3427, Val Loss: 0.3059\n",
            "Epoch 481, Train Loss: 0.3423, Val Loss: 0.3039\n",
            "Epoch 511, Train Loss: 0.3417, Val Loss: 0.3016\n",
            "Epoch 541, Train Loss: 0.3399, Val Loss: 0.3021\n",
            "Epoch 571, Train Loss: 0.3396, Val Loss: 0.2959\n",
            "Epoch 601, Train Loss: 0.3401, Val Loss: 0.3018\n",
            "Epoch 631, Train Loss: 0.3406, Val Loss: 0.2959\n",
            "Epoch 661, Train Loss: 0.3430, Val Loss: 0.2963\n",
            "Epoch 691, Train Loss: 0.3396, Val Loss: 0.2975\n",
            "Epoch 721, Train Loss: 0.3360, Val Loss: 0.2955\n",
            "Epoch 751, Train Loss: 0.3342, Val Loss: 0.2966\n",
            "Epoch 781, Train Loss: 0.3344, Val Loss: 0.2939\n",
            "Epoch 811, Train Loss: 0.3323, Val Loss: 0.2938\n",
            "Epoch 841, Train Loss: 0.3352, Val Loss: 0.2932\n",
            "Epoch 871, Train Loss: 0.3328, Val Loss: 0.2917\n",
            "Epoch 901, Train Loss: 0.3304, Val Loss: 0.2887\n",
            "Epoch 931, Train Loss: 0.3328, Val Loss: 0.2924\n",
            "Epoch 961, Train Loss: 0.3332, Val Loss: 0.2886\n",
            "Epoch 991, Train Loss: 0.3297, Val Loss: 0.2894\n",
            "Epoch 1021, Train Loss: 0.3321, Val Loss: 0.2920\n",
            "Epoch 1051, Train Loss: 0.3312, Val Loss: 0.2877\n",
            "Epoch 1081, Train Loss: 0.3264, Val Loss: 0.2849\n",
            "Epoch 1111, Train Loss: 0.3280, Val Loss: 0.2866\n",
            "Epoch 1141, Train Loss: 0.3267, Val Loss: 0.2879\n",
            "Epoch 1171, Train Loss: 0.3321, Val Loss: 0.2854\n",
            "Epoch 1201, Train Loss: 0.3261, Val Loss: 0.2858\n",
            "Epoch 1231, Train Loss: 0.3278, Val Loss: 0.2866\n",
            "Epoch 1261, Train Loss: 0.3258, Val Loss: 0.2836\n",
            "Epoch 1291, Train Loss: 0.3264, Val Loss: 0.2865\n",
            "Epoch 1321, Train Loss: 0.3251, Val Loss: 0.2869\n",
            "Epoch 1351, Train Loss: 0.3257, Val Loss: 0.2802\n",
            "Epoch 1381, Train Loss: 0.3267, Val Loss: 0.2883\n",
            "Epoch 1411, Train Loss: 0.3312, Val Loss: 0.2826\n",
            "Epoch 1441, Train Loss: 0.3222, Val Loss: 0.2803\n",
            "Epoch 1471, Train Loss: 0.3241, Val Loss: 0.2847\n",
            "Epoch 1501, Train Loss: 0.3259, Val Loss: 0.2847\n",
            "Epoch 1531, Train Loss: 0.3233, Val Loss: 0.2796\n",
            "Epoch 1561, Train Loss: 0.3214, Val Loss: 0.2827\n",
            "Epoch 1591, Train Loss: 0.3280, Val Loss: 0.2833\n",
            "Epoch 1621, Train Loss: 0.3208, Val Loss: 0.2810\n",
            "Epoch 1651, Train Loss: 0.3212, Val Loss: 0.2797\n",
            "Epoch 1681, Train Loss: 0.3253, Val Loss: 0.2802\n",
            "Epoch 1711, Train Loss: 0.3210, Val Loss: 0.2776\n",
            "Epoch 1741, Train Loss: 0.3219, Val Loss: 0.2778\n",
            "Epoch 1771, Train Loss: 0.3226, Val Loss: 0.2782\n",
            "Epoch 1801, Train Loss: 0.3203, Val Loss: 0.2780\n",
            "Epoch 1831, Train Loss: 0.3192, Val Loss: 0.2806\n",
            "Epoch 1861, Train Loss: 0.3206, Val Loss: 0.2781\n",
            "Epoch 1891, Train Loss: 0.3231, Val Loss: 0.2795\n",
            "Epoch 1921, Train Loss: 0.3194, Val Loss: 0.2777\n",
            "Epoch 1951, Train Loss: 0.3202, Val Loss: 0.2769\n",
            "Epoch 1981, Train Loss: 0.3227, Val Loss: 0.2816\n",
            "Epoch 2011, Train Loss: 0.3218, Val Loss: 0.2786\n",
            "Epoch 2041, Train Loss: 0.3168, Val Loss: 0.2762\n",
            "Epoch 2071, Train Loss: 0.3227, Val Loss: 0.2740\n",
            "Epoch 2101, Train Loss: 0.3238, Val Loss: 0.2771\n",
            "Epoch 2131, Train Loss: 0.3162, Val Loss: 0.2768\n",
            "Epoch 2161, Train Loss: 0.3188, Val Loss: 0.2773\n",
            "Epoch 2191, Train Loss: 0.3201, Val Loss: 0.2755\n",
            "Epoch 2221, Train Loss: 0.3155, Val Loss: 0.2751\n",
            "Epoch 2251, Train Loss: 0.3165, Val Loss: 0.2745\n",
            "Epoch 2281, Train Loss: 0.3198, Val Loss: 0.2753\n",
            "Epoch 2311, Train Loss: 0.3189, Val Loss: 0.2769\n",
            "Epoch 2341, Train Loss: 0.3171, Val Loss: 0.2782\n",
            "Epoch 2371, Train Loss: 0.3187, Val Loss: 0.2729\n",
            "Epoch 2401, Train Loss: 0.3166, Val Loss: 0.2747\n",
            "Epoch 2431, Train Loss: 0.3188, Val Loss: 0.2778\n",
            "Epoch 2461, Train Loss: 0.3157, Val Loss: 0.2772\n",
            "Epoch 2491, Train Loss: 0.3150, Val Loss: 0.2765\n",
            "Epoch 2521, Train Loss: 0.3149, Val Loss: 0.2760\n",
            "Epoch 2551, Train Loss: 0.3148, Val Loss: 0.2737\n",
            "Epoch 2581, Train Loss: 0.3164, Val Loss: 0.2748\n",
            "Epoch 2611, Train Loss: 0.3154, Val Loss: 0.2736\n",
            "Epoch 2641, Train Loss: 0.3169, Val Loss: 0.2711\n",
            "Epoch 2671, Train Loss: 0.3169, Val Loss: 0.2754\n",
            "Epoch 2701, Train Loss: 0.3195, Val Loss: 0.2740\n",
            "Epoch 2731, Train Loss: 0.3130, Val Loss: 0.2718\n",
            "Epoch 2761, Train Loss: 0.3126, Val Loss: 0.2689\n",
            "Epoch 2791, Train Loss: 0.3149, Val Loss: 0.2727\n",
            "Epoch 2821, Train Loss: 0.3139, Val Loss: 0.2685\n",
            "Epoch 2851, Train Loss: 0.3135, Val Loss: 0.2692\n",
            "Epoch 2881, Train Loss: 0.3188, Val Loss: 0.2751\n",
            "Epoch 2911, Train Loss: 0.3127, Val Loss: 0.2725\n",
            "Epoch 2941, Train Loss: 0.3122, Val Loss: 0.2714\n",
            "Epoch 2971, Train Loss: 0.3112, Val Loss: 0.2693\n"
          ]
        }
      ]
    },
    {
      "cell_type": "markdown",
      "source": [
        "## Learning curve visualization"
      ],
      "metadata": {
        "id": "aMfT_1_9oxUj"
      }
    },
    {
      "cell_type": "code",
      "source": [
        "plt.plot(train_losses, label='Train Loss')\n",
        "plt.plot(val_losses, label='Val Loss')\n",
        "plt.legend()\n",
        "plt.show()"
      ],
      "metadata": {
        "id": "OWYNyeyV4n97",
        "colab": {
          "base_uri": "https://localhost:8080/",
          "height": 430
        },
        "outputId": "ef71e782-f673-4ab4-c2d1-225d23c3f91e"
      },
      "execution_count": 11,
      "outputs": [
        {
          "output_type": "display_data",
          "data": {
            "text/plain": [
              "<Figure size 640x480 with 1 Axes>"
            ],
            "image/png": "[encoded data removed]"
          },
          "metadata": {}
        }
      ]
    },
    {
      "cell_type": "markdown",
      "source": [
        "# Predict Phase"
      ],
      "metadata": {
        "id": "t1-9KEvso4u8"
      }
    },
    {
      "cell_type": "code",
      "source": [
        "def predicted(model, loader):\n",
        "  all_preds = []\n",
        "  all_labels = []\n",
        "  correct = 0\n",
        "  total = 0\n",
        "  model.eval()\n",
        "  with torch.no_grad():\n",
        "    for data in loader:\n",
        "      data = data.to(device)\n",
        "      out = model(data)\n",
        "      pred = (out > 0).float()\n",
        "      correct += pred.eq(data.y).sum().item()\n",
        "      total += data.y.numel()\n",
        "      all_preds.append(pred.cpu().numpy())\n",
        "      all_labels.append(data.y.cpu().numpy())\n",
        "  accuracy = correct/total\n",
        "  all_preds = np.concatenate(all_preds)\n",
        "  all_labels = np.concatenate(all_labels)\n",
        "  f1_macro = f1_score(all_labels, all_preds, average='macro')\n",
        "  f1_micro = f1_score(all_labels, all_preds, average='micro')\n",
        "  return accuracy, f1_macro, f1_micro"
      ],
      "metadata": {
        "id": "_1rgh9qlxKBP"
      },
      "execution_count": 12,
      "outputs": []
    },
    {
      "cell_type": "markdown",
      "source": [
        "## Check the acuuracy and F1-score of the best model"
      ],
      "metadata": {
        "id": "m5xFM4vAo9Ui"
      }
    },
    {
      "cell_type": "code",
      "source": [
        "ppi_model.load_state_dict(torch.load(os.path.join(model_dir, 'best_model.pth')))\n",
        "accuracy, f1_macro, f1_micro = predicted(ppi_model, test_loader)\n",
        "print(f'Test Accuracy: {accuracy:.4f}')\n",
        "print(f'Test F1 macro: {f1_macro:.4f}')\n",
        "print(f'Test F1 micro: {f1_micro:.4f}')"
      ],
      "metadata": {
        "id": "N0X05OwTWKSo",
        "colab": {
          "base_uri": "https://localhost:8080/"
        },
        "outputId": "7a49c1e2-4558-448d-dda7-6c154bf8a98d"
      },
      "execution_count": 13,
      "outputs": [
        {
          "output_type": "stream",
          "name": "stdout",
          "text": [
            "Test Accuracy: 0.9110\n",
            "Test F1 macro: 0.8189\n",
            "Test F1 micro: 0.8408\n"
          ]
        }
      ]
    }
  ],
  "metadata": {
    "accelerator": "GPU",
    "colab": {
      "gpuType": "T4",
      "provenance": []
    },
    "kernelspec": {
      "display_name": "Python 3",
      "name": "python3"
    },
    "language_info": {
      "name": "python"
    }
  },
  "nbformat": 4,
  "nbformat_minor": 0
}